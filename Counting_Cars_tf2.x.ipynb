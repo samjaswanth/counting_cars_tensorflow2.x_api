{
 "cells": [
  {
   "cell_type": "markdown",
   "id": "stopped-smart",
   "metadata": {},
   "source": [
    "## Import all the necessary packages"
   ]
  },
  {
   "cell_type": "code",
   "execution_count": 8,
   "id": "cognitive-walter",
   "metadata": {},
   "outputs": [],
   "source": [
    "import numpy as np\n",
    "import os\n",
    "import six.moves.urllib as urllib\n",
    "import sys\n",
    "import tarfile\n",
    "import tensorflow as tf\n",
    "import zipfile\n",
    "\n",
    "from collections import defaultdict\n",
    "from io import StringIO\n",
    "from matplotlib import pyplot as plt\n",
    "from PIL import Image\n",
    "from IPython.display import display\n",
    "import cv2\n",
    "import pathlib"
   ]
  },
  {
   "cell_type": "markdown",
   "id": "secondary-craft",
   "metadata": {},
   "source": [
    "#### Import the object detection module"
   ]
  },
  {
   "cell_type": "code",
   "execution_count": 2,
   "id": "hispanic-atlantic",
   "metadata": {},
   "outputs": [],
   "source": [
    "from object_detection.utils import ops as utils_ops\n",
    "from object_detection.utils import label_map_util\n",
    "from object_detection.utils import visualization_utils as vis_util"
   ]
  },
  {
   "cell_type": "markdown",
   "id": "catholic-manual",
   "metadata": {},
   "source": [
    "#### Patch files"
   ]
  },
  {
   "cell_type": "code",
   "execution_count": 3,
   "id": "divine-operations",
   "metadata": {},
   "outputs": [],
   "source": [
    "# patch tf1 into `utils.ops`\n",
    "utils_ops.tf = tf.compat.v1\n",
    "\n",
    "# Patch the location of gfile\n",
    "tf.gfile = tf.io.gfile"
   ]
  },
  {
   "cell_type": "markdown",
   "id": "pending-breakdown",
   "metadata": {},
   "source": [
    "#### Loader"
   ]
  },
  {
   "cell_type": "code",
   "execution_count": 4,
   "id": "liberal-confusion",
   "metadata": {},
   "outputs": [],
   "source": [
    "def load_model(model_name):\n",
    "  base_url = 'http://download.tensorflow.org/models/object_detection/'\n",
    "  model_file = model_name + '.tar.gz'\n",
    "  model_dir = tf.keras.utils.get_file(\n",
    "    fname=model_name, \n",
    "    origin=base_url + model_file,\n",
    "    untar=True)\n",
    "\n",
    "  model_dir = pathlib.Path(model_dir)/\"saved_model\"\n",
    "\n",
    "  model = tf.saved_model.load(str(model_dir))\n",
    "\n",
    "  return model"
   ]
  },
  {
   "cell_type": "markdown",
   "id": "tropical-coupon",
   "metadata": {},
   "source": [
    "### Label Map "
   ]
  },
  {
   "cell_type": "code",
   "execution_count": 5,
   "id": "indoor-flexibility",
   "metadata": {},
   "outputs": [],
   "source": [
    "# List of the strings that is used to add correct label for each box.\n",
    "PATH_TO_LABELS = '/Users/samjaswanth/Documents/tfod2.x/models/research/object_detection/data/mscoco_label_map.pbtxt'\n",
    "category_index = label_map_util.create_category_index_from_labelmap(PATH_TO_LABELS, use_display_name=True)"
   ]
  },
  {
   "cell_type": "markdown",
   "id": "typical-repair",
   "metadata": {},
   "source": [
    "# Detection"
   ]
  },
  {
   "cell_type": "code",
   "execution_count": 9,
   "id": "bulgarian-naples",
   "metadata": {},
   "outputs": [
    {
     "name": "stdout",
     "output_type": "stream",
     "text": [
      "INFO:tensorflow:Saver not created because there are no variables in the graph to restore\n"
     ]
    }
   ],
   "source": [
    "model_name = 'ssd_mobilenet_v1_coco_2017_11_17'\n",
    "detection_model = load_model(model_name)"
   ]
  },
  {
   "cell_type": "markdown",
   "id": "closed-yesterday",
   "metadata": {},
   "source": [
    "#### Wrapper functions"
   ]
  },
  {
   "cell_type": "code",
   "execution_count": 10,
   "id": "regulated-thanks",
   "metadata": {},
   "outputs": [],
   "source": [
    "def run_inference_for_single_image(model, image):\n",
    "  image = np.asarray(image)\n",
    "  # The input needs to be a tensor, convert it using `tf.convert_to_tensor`.\n",
    "  input_tensor = tf.convert_to_tensor(image)\n",
    "  # The model expects a batch of images, so add an axis with `tf.newaxis`.\n",
    "  input_tensor = input_tensor[tf.newaxis,...]\n",
    "\n",
    "  # Run inference\n",
    "  model_fn = model.signatures['serving_default']\n",
    "  output_dict = model_fn(input_tensor)\n",
    "\n",
    "  # All outputs are batches tensors.\n",
    "  # Convert to numpy arrays, and take index [0] to remove the batch dimension.\n",
    "  # We're only interested in the first num_detections.\n",
    "  num_detections = int(output_dict.pop('num_detections'))\n",
    "  output_dict = {key:value[0, :num_detections].numpy() \n",
    "                 for key,value in output_dict.items()}\n",
    "  output_dict['num_detections'] = num_detections\n",
    "\n",
    "  # detection_classes should be ints.\n",
    "  output_dict['detection_classes'] = output_dict['detection_classes'].astype(np.int64)\n",
    "   \n",
    "  # Handle models with masks:\n",
    "  if 'detection_masks' in output_dict:\n",
    "    # Reframe the the bbox mask to the image size.\n",
    "    detection_masks_reframed = utils_ops.reframe_box_masks_to_image_masks(\n",
    "              output_dict['detection_masks'], output_dict['detection_boxes'],\n",
    "               image.shape[0], image.shape[1])      \n",
    "    detection_masks_reframed = tf.cast(detection_masks_reframed > 0.5,\n",
    "                                       tf.uint8)\n",
    "    output_dict['detection_masks_reframed'] = detection_masks_reframed.numpy()\n",
    "    \n",
    "  return output_dict"
   ]
  },
  {
   "cell_type": "code",
   "execution_count": 11,
   "id": "manufactured-japan",
   "metadata": {},
   "outputs": [],
   "source": [
    "def show_inference(model, image_path):\n",
    "  # the array based representation of the image will be used later in order to prepare the\n",
    "  # result image with boxes and labels on it.\n",
    "  #image_np = np.array(Image.open(image_path))\n",
    "  image_np = image_path\n",
    "  image_np = cv2.cvtColor(image_np,cv2.COLOR_BGR2RGB)\n",
    "  # Actual detection.\n",
    "  output_dict = run_inference_for_single_image(model, image_np)\n",
    "  # Visualization of the results of a detection.\n",
    "  vis_util.visualize_boxes_and_labels_on_image_array(\n",
    "      image_np,\n",
    "      output_dict['detection_boxes'],\n",
    "      output_dict['detection_classes'],\n",
    "      output_dict['detection_scores'],\n",
    "      category_index,\n",
    "      instance_masks=output_dict.get('detection_masks_reframed', None),\n",
    "      use_normalized_coordinates=True,\n",
    "      line_thickness=2)\n",
    "\n",
    "  #display(Image.fromarray(image_np))\n",
    "  image_np = cv2.cvtColor(image_np,cv2.COLOR_BGR2RGB)\n",
    "  a=car_detect(image_np,output_dict['detection_classes'],output_dict['detection_scores'],output_dict['detection_boxes'])\n",
    "  return image_np,a"
   ]
  },
  {
   "cell_type": "code",
   "execution_count": 15,
   "id": "hawaiian-telling",
   "metadata": {},
   "outputs": [],
   "source": [
    "def car_detect(image,classes,score,boxes):\n",
    "    admi = 0\n",
    "    \n",
    "    for i in range(10):\n",
    "        if(classes[i]==3 and score[i]>0.3):\n",
    "            h,w = img.shape[0:2]\n",
    "            ymin,xmin,ymax,xmax=boxes[i]\n",
    "            car_detect.car = xmax\n",
    "            return 1"
   ]
  },
  {
   "cell_type": "code",
   "execution_count": 16,
   "id": "distinct-fleet",
   "metadata": {},
   "outputs": [],
   "source": [
    "video=cv2.VideoCapture(r\"/Users/samjaswanth/Documents/tfod2.x/highway.mp4\")\n",
    "count = 0\n",
    "while(True):\n",
    "    ret,img=video.read()\n",
    "    \n",
    "    height,width = img.shape[0:2]\n",
    "    \n",
    "    img[0:70,0:width] = [0,0,255]\n",
    "    cv2.line(img,(0,180),(width,(height-200)),(0,255,255),2)\n",
    "    img,cnt=show_inference(detection_model,img)\n",
    "    \n",
    "    car_cord = car_detect.car * 100\n",
    "    line_cord = height-200\n",
    "    \n",
    "    if (cnt == 1):\n",
    "        if(car_cord>90):\n",
    "            \n",
    "            \n",
    "            count += 1\n",
    "            \n",
    "    cv2.putText(img,str(count),(50,50),cv2.FONT_HERSHEY_SIMPLEX,1,(255,255,255),2,cv2.LINE_AA)\n",
    "    \n",
    "    cv2.imshow('LIVE',img)\n",
    "    \n",
    "    k=cv2.waitKey(1)\n",
    "    if(k==27):\n",
    "        break\n",
    "cv2.destroyAllWindows()"
   ]
  },
  {
   "cell_type": "code",
   "execution_count": null,
   "id": "infectious-metadata",
   "metadata": {},
   "outputs": [],
   "source": []
  }
 ],
 "metadata": {
  "kernelspec": {
   "display_name": "Python 3",
   "language": "python",
   "name": "python3"
  },
  "language_info": {
   "codemirror_mode": {
    "name": "ipython",
    "version": 3
   },
   "file_extension": ".py",
   "mimetype": "text/x-python",
   "name": "python",
   "nbconvert_exporter": "python",
   "pygments_lexer": "ipython3",
   "version": "3.8.8"
  }
 },
 "nbformat": 4,
 "nbformat_minor": 5
}
